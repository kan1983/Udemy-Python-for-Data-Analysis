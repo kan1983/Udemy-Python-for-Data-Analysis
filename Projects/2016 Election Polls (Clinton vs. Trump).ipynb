{
 "cells": [
  {
   "cell_type": "code",
   "execution_count": 1,
   "metadata": {
    "collapsed": true
   },
   "outputs": [],
   "source": [
    "import pandas as pd\n",
    "from pandas import Series,DataFrame\n",
    "import numpy as np\n",
    "import matplotlib.pyplot as plt\n",
    "import seaborn as sns\n",
    "sns.set_style('whitegrid')\n",
    "%matplotlib inline\n",
    "from __future__ import division"
   ]
  },
  {
   "cell_type": "code",
   "execution_count": 21,
   "metadata": {
    "collapsed": false
   },
   "outputs": [
    {
     "data": {
      "text/html": [
       "<div>\n",
       "<table border=\"1\" class=\"dataframe\">\n",
       "  <thead>\n",
       "    <tr style=\"text-align: right;\">\n",
       "      <th></th>\n",
       "      <th>Pollster</th>\n",
       "      <th>Start Date</th>\n",
       "      <th>End Date</th>\n",
       "      <th>Entry Date/Time (ET)</th>\n",
       "      <th>Number of Observations</th>\n",
       "      <th>Population</th>\n",
       "      <th>Mode</th>\n",
       "      <th>Clinton</th>\n",
       "      <th>Trump</th>\n",
       "      <th>Undecided</th>\n",
       "      <th>Other</th>\n",
       "      <th>Pollster URL</th>\n",
       "      <th>Source URL</th>\n",
       "      <th>Partisan</th>\n",
       "      <th>Affiliation</th>\n",
       "    </tr>\n",
       "  </thead>\n",
       "  <tbody>\n",
       "    <tr>\n",
       "      <th>0</th>\n",
       "      <td>Morning Consult</td>\n",
       "      <td>2016-06-15</td>\n",
       "      <td>2016-06-20</td>\n",
       "      <td>2016-06-20T20:29:18Z</td>\n",
       "      <td>3891.0</td>\n",
       "      <td>Registered Voters</td>\n",
       "      <td>Internet</td>\n",
       "      <td>42</td>\n",
       "      <td>40</td>\n",
       "      <td>17.0</td>\n",
       "      <td>NaN</td>\n",
       "      <td>http://elections.huffingtonpost.com/pollster/p...</td>\n",
       "      <td>https://morningconsult.com/2016/06/20/poll-orl...</td>\n",
       "      <td>Nonpartisan</td>\n",
       "      <td>None</td>\n",
       "    </tr>\n",
       "    <tr>\n",
       "      <th>1</th>\n",
       "      <td>ARG</td>\n",
       "      <td>2016-06-17</td>\n",
       "      <td>2016-06-20</td>\n",
       "      <td>2016-06-21T15:05:57Z</td>\n",
       "      <td>987.0</td>\n",
       "      <td>Registered Voters</td>\n",
       "      <td>Live Phone</td>\n",
       "      <td>50</td>\n",
       "      <td>41</td>\n",
       "      <td>6.0</td>\n",
       "      <td>3.0</td>\n",
       "      <td>http://elections.huffingtonpost.com/pollster/p...</td>\n",
       "      <td>http://americanresearchgroup.com/pres2016/na16...</td>\n",
       "      <td>Nonpartisan</td>\n",
       "      <td>None</td>\n",
       "    </tr>\n",
       "    <tr>\n",
       "      <th>2</th>\n",
       "      <td>YouGov/Economist</td>\n",
       "      <td>2016-06-18</td>\n",
       "      <td>2016-06-20</td>\n",
       "      <td>2016-06-22T15:37:22Z</td>\n",
       "      <td>911.0</td>\n",
       "      <td>Registered Voters</td>\n",
       "      <td>Internet</td>\n",
       "      <td>43</td>\n",
       "      <td>39</td>\n",
       "      <td>7.0</td>\n",
       "      <td>11.0</td>\n",
       "      <td>http://elections.huffingtonpost.com/pollster/p...</td>\n",
       "      <td>https://today.yougov.com/news/2016/06/21/natio...</td>\n",
       "      <td>Nonpartisan</td>\n",
       "      <td>None</td>\n",
       "    </tr>\n",
       "    <tr>\n",
       "      <th>3</th>\n",
       "      <td>Morning Consult</td>\n",
       "      <td>2016-06-15</td>\n",
       "      <td>2016-06-20</td>\n",
       "      <td>2016-06-20T20:29:18Z</td>\n",
       "      <td>1451.0</td>\n",
       "      <td>Registered Voters - Democrat</td>\n",
       "      <td>Internet</td>\n",
       "      <td>80</td>\n",
       "      <td>10</td>\n",
       "      <td>10.0</td>\n",
       "      <td>NaN</td>\n",
       "      <td>http://elections.huffingtonpost.com/pollster/p...</td>\n",
       "      <td>https://morningconsult.com/2016/06/20/poll-orl...</td>\n",
       "      <td>Nonpartisan</td>\n",
       "      <td>None</td>\n",
       "    </tr>\n",
       "    <tr>\n",
       "      <th>4</th>\n",
       "      <td>YouGov/Economist</td>\n",
       "      <td>2016-06-18</td>\n",
       "      <td>2016-06-20</td>\n",
       "      <td>2016-06-22T15:37:22Z</td>\n",
       "      <td>425.0</td>\n",
       "      <td>Registered Voters - Democrat</td>\n",
       "      <td>Internet</td>\n",
       "      <td>86</td>\n",
       "      <td>6</td>\n",
       "      <td>4.0</td>\n",
       "      <td>4.0</td>\n",
       "      <td>http://elections.huffingtonpost.com/pollster/p...</td>\n",
       "      <td>https://today.yougov.com/news/2016/06/21/natio...</td>\n",
       "      <td>Nonpartisan</td>\n",
       "      <td>None</td>\n",
       "    </tr>\n",
       "  </tbody>\n",
       "</table>\n",
       "</div>"
      ],
      "text/plain": [
       "           Pollster  Start Date    End Date  Entry Date/Time (ET)  \\\n",
       "0   Morning Consult  2016-06-15  2016-06-20  2016-06-20T20:29:18Z   \n",
       "1               ARG  2016-06-17  2016-06-20  2016-06-21T15:05:57Z   \n",
       "2  YouGov/Economist  2016-06-18  2016-06-20  2016-06-22T15:37:22Z   \n",
       "3   Morning Consult  2016-06-15  2016-06-20  2016-06-20T20:29:18Z   \n",
       "4  YouGov/Economist  2016-06-18  2016-06-20  2016-06-22T15:37:22Z   \n",
       "\n",
       "   Number of Observations                    Population        Mode  Clinton  \\\n",
       "0                  3891.0             Registered Voters    Internet       42   \n",
       "1                   987.0             Registered Voters  Live Phone       50   \n",
       "2                   911.0             Registered Voters    Internet       43   \n",
       "3                  1451.0  Registered Voters - Democrat    Internet       80   \n",
       "4                   425.0  Registered Voters - Democrat    Internet       86   \n",
       "\n",
       "   Trump  Undecided  Other                                       Pollster URL  \\\n",
       "0     40       17.0    NaN  http://elections.huffingtonpost.com/pollster/p...   \n",
       "1     41        6.0    3.0  http://elections.huffingtonpost.com/pollster/p...   \n",
       "2     39        7.0   11.0  http://elections.huffingtonpost.com/pollster/p...   \n",
       "3     10       10.0    NaN  http://elections.huffingtonpost.com/pollster/p...   \n",
       "4      6        4.0    4.0  http://elections.huffingtonpost.com/pollster/p...   \n",
       "\n",
       "                                          Source URL     Partisan Affiliation  \n",
       "0  https://morningconsult.com/2016/06/20/poll-orl...  Nonpartisan        None  \n",
       "1  http://americanresearchgroup.com/pres2016/na16...  Nonpartisan        None  \n",
       "2  https://today.yougov.com/news/2016/06/21/natio...  Nonpartisan        None  \n",
       "3  https://morningconsult.com/2016/06/20/poll-orl...  Nonpartisan        None  \n",
       "4  https://today.yougov.com/news/2016/06/21/natio...  Nonpartisan        None  "
      ]
     },
     "execution_count": 21,
     "metadata": {},
     "output_type": "execute_result"
    }
   ],
   "source": [
    "poll_df = pd.read_csv('2016-general-election-trump-vs-clinton.csv')\n",
    "poll_df.head()"
   ]
  },
  {
   "cell_type": "code",
   "execution_count": 22,
   "metadata": {
    "collapsed": false
   },
   "outputs": [
    {
     "name": "stdout",
     "output_type": "stream",
     "text": [
      "<class 'pandas.core.frame.DataFrame'>\n",
      "RangeIndex: 466 entries, 0 to 465\n",
      "Data columns (total 15 columns):\n",
      "Pollster                  466 non-null object\n",
      "Start Date                466 non-null object\n",
      "End Date                  466 non-null object\n",
      "Entry Date/Time (ET)      466 non-null object\n",
      "Number of Observations    358 non-null float64\n",
      "Population                466 non-null object\n",
      "Mode                      466 non-null object\n",
      "Clinton                   466 non-null int64\n",
      "Trump                     466 non-null int64\n",
      "Undecided                 452 non-null float64\n",
      "Other                     219 non-null float64\n",
      "Pollster URL              466 non-null object\n",
      "Source URL                466 non-null object\n",
      "Partisan                  466 non-null object\n",
      "Affiliation               466 non-null object\n",
      "dtypes: float64(3), int64(2), object(10)\n",
      "memory usage: 54.7+ KB\n"
     ]
    }
   ],
   "source": [
    "poll_df.info()"
   ]
  },
  {
   "cell_type": "code",
   "execution_count": 23,
   "metadata": {
    "collapsed": false
   },
   "outputs": [
    {
     "data": {
      "text/plain": [
       "<seaborn.axisgrid.FacetGrid at 0xa8f6860>"
      ]
     },
     "execution_count": 23,
     "metadata": {},
     "output_type": "execute_result"
    },
    {
     "data": {
      "image/png": "[encoded data removed]",
      "text/plain": [
       "<matplotlib.figure.Figure at 0xba59860>"
      ]
     },
     "metadata": {},
     "output_type": "display_data"
    }
   ],
   "source": [
    "sns.factorplot('Affiliation',data=poll_df,kind='count')"
   ]
  },
  {
   "cell_type": "code",
   "execution_count": 24,
   "metadata": {
    "collapsed": false
   },
   "outputs": [
    {
     "data": {
      "text/plain": [
       "<seaborn.axisgrid.FacetGrid at 0xba5fb38>"
      ]
     },
     "execution_count": 24,
     "metadata": {},
     "output_type": "execute_result"
    },
    {
     "data": {
      "image/png": "[encoded data removed]",
      "text/plain": [
       "<matplotlib.figure.Figure at 0xbb569e8>"
      ]
     },
     "metadata": {},
     "output_type": "display_data"
    }
   ],
   "source": [
    "sns.factorplot('Affiliation',data=poll_df,kind='count', order=['Rep', 'Dem'])"
   ]
  },
  {
   "cell_type": "code",
   "execution_count": 25,
   "metadata": {
    "collapsed": false
   },
   "outputs": [
    {
     "data": {
      "text/plain": [
       "<seaborn.axisgrid.FacetGrid at 0xba6a630>"
      ]
     },
     "execution_count": 25,
     "metadata": {},
     "output_type": "execute_result"
    },
    {
     "data": {
      "image/png": "[encoded data removed]",
      "text/plain": [
       "<matplotlib.figure.Figure at 0xbbd8b70>"
      ]
     },
     "metadata": {},
     "output_type": "display_data"
    }
   ],
   "source": [
    "sns.factorplot('Affiliation',data=poll_df,kind='count',hue='Population')"
   ]
  },
  {
   "cell_type": "code",
   "execution_count": 26,
   "metadata": {
    "collapsed": true
   },
   "outputs": [],
   "source": [
    "avg = pd.DataFrame(poll_df.mean())\n",
    "avg.drop('Number of Observations',axis=0,inplace=True)"
   ]
  },
  {
   "cell_type": "code",
   "execution_count": 27,
   "metadata": {
    "collapsed": false
   },
   "outputs": [
    {
     "data": {
      "text/html": [
       "<div>\n",
       "<table border=\"1\" class=\"dataframe\">\n",
       "  <thead>\n",
       "    <tr style=\"text-align: right;\">\n",
       "      <th></th>\n",
       "      <th>0</th>\n",
       "    </tr>\n",
       "  </thead>\n",
       "  <tbody>\n",
       "    <tr>\n",
       "      <th>Clinton</th>\n",
       "      <td>45.158798</td>\n",
       "    </tr>\n",
       "    <tr>\n",
       "      <th>Trump</th>\n",
       "      <td>41.214592</td>\n",
       "    </tr>\n",
       "    <tr>\n",
       "      <th>Undecided</th>\n",
       "      <td>10.353982</td>\n",
       "    </tr>\n",
       "    <tr>\n",
       "      <th>Other</th>\n",
       "      <td>6.013699</td>\n",
       "    </tr>\n",
       "  </tbody>\n",
       "</table>\n",
       "</div>"
      ],
      "text/plain": [
       "                   0\n",
       "Clinton    45.158798\n",
       "Trump      41.214592\n",
       "Undecided  10.353982\n",
       "Other       6.013699"
      ]
     },
     "execution_count": 27,
     "metadata": {},
     "output_type": "execute_result"
    }
   ],
   "source": [
    "avg"
   ]
  },
  {
   "cell_type": "markdown",
   "metadata": {},
   "source": [
    "Clearly the undecided votes can swing this election"
   ]
  },
  {
   "cell_type": "code",
   "execution_count": 28,
   "metadata": {
    "collapsed": true
   },
   "outputs": [],
   "source": [
    "std = pd.DataFrame(poll_df.std())\n",
    "std.drop('Number of Observations', axis=0, inplace=True)"
   ]
  },
  {
   "cell_type": "code",
   "execution_count": 29,
   "metadata": {
    "collapsed": false
   },
   "outputs": [
    {
     "data": {
      "text/html": [
       "<div>\n",
       "<table border=\"1\" class=\"dataframe\">\n",
       "  <thead>\n",
       "    <tr style=\"text-align: right;\">\n",
       "      <th></th>\n",
       "      <th>0</th>\n",
       "    </tr>\n",
       "  </thead>\n",
       "  <tbody>\n",
       "    <tr>\n",
       "      <th>Clinton</th>\n",
       "      <td>23.969436</td>\n",
       "    </tr>\n",
       "    <tr>\n",
       "      <th>Trump</th>\n",
       "      <td>22.010972</td>\n",
       "    </tr>\n",
       "    <tr>\n",
       "      <th>Undecided</th>\n",
       "      <td>6.310053</td>\n",
       "    </tr>\n",
       "    <tr>\n",
       "      <th>Other</th>\n",
       "      <td>5.773619</td>\n",
       "    </tr>\n",
       "  </tbody>\n",
       "</table>\n",
       "</div>"
      ],
      "text/plain": [
       "                   0\n",
       "Clinton    23.969436\n",
       "Trump      22.010972\n",
       "Undecided   6.310053\n",
       "Other       5.773619"
      ]
     },
     "execution_count": 29,
     "metadata": {},
     "output_type": "execute_result"
    }
   ],
   "source": [
    "std"
   ]
  },
  {
   "cell_type": "code",
   "execution_count": 30,
   "metadata": {
    "collapsed": false
   },
   "outputs": [
    {
     "data": {
      "text/plain": [
       "<matplotlib.axes._subplots.AxesSubplot at 0xc373f28>"
      ]
     },
     "execution_count": 30,
     "metadata": {},
     "output_type": "execute_result"
    },
    {
     "data": {
      "image/png": "[encoded data removed]",
      "text/plain": [
       "<matplotlib.figure.Figure at 0xc2d88d0>"
      ]
     },
     "metadata": {},
     "output_type": "display_data"
    }
   ],
   "source": [
    "avg.plot(yerr=std,kind='bar',legend=False)"
   ]
  },
  {
   "cell_type": "markdown",
   "metadata": {},
   "source": [
    "Huge standard deviation!"
   ]
  },
  {
   "cell_type": "code",
   "execution_count": 31,
   "metadata": {
    "collapsed": false
   },
   "outputs": [
    {
     "data": {
      "text/html": [
       "<div>\n",
       "<table border=\"1\" class=\"dataframe\">\n",
       "  <thead>\n",
       "    <tr style=\"text-align: right;\">\n",
       "      <th></th>\n",
       "      <th>Average</th>\n",
       "      <th>STD</th>\n",
       "    </tr>\n",
       "  </thead>\n",
       "  <tbody>\n",
       "    <tr>\n",
       "      <th>Clinton</th>\n",
       "      <td>45.158798</td>\n",
       "      <td>23.969436</td>\n",
       "    </tr>\n",
       "    <tr>\n",
       "      <th>Trump</th>\n",
       "      <td>41.214592</td>\n",
       "      <td>22.010972</td>\n",
       "    </tr>\n",
       "    <tr>\n",
       "      <th>Undecided</th>\n",
       "      <td>10.353982</td>\n",
       "      <td>6.310053</td>\n",
       "    </tr>\n",
       "    <tr>\n",
       "      <th>Other</th>\n",
       "      <td>6.013699</td>\n",
       "      <td>5.773619</td>\n",
       "    </tr>\n",
       "  </tbody>\n",
       "</table>\n",
       "</div>"
      ],
      "text/plain": [
       "             Average        STD\n",
       "Clinton    45.158798  23.969436\n",
       "Trump      41.214592  22.010972\n",
       "Undecided  10.353982   6.310053\n",
       "Other       6.013699   5.773619"
      ]
     },
     "execution_count": 31,
     "metadata": {},
     "output_type": "execute_result"
    }
   ],
   "source": [
    "poll_avg = pd.concat([avg,std],axis=1)\n",
    "poll_avg.columns = ['Average','STD']\n",
    "poll_avg"
   ]
  },
  {
   "cell_type": "code",
   "execution_count": 32,
   "metadata": {
    "collapsed": false
   },
   "outputs": [
    {
     "data": {
      "text/plain": [
       "<matplotlib.axes._subplots.AxesSubplot at 0xc67d588>"
      ]
     },
     "execution_count": 32,
     "metadata": {},
     "output_type": "execute_result"
    },
    {
     "data": {
      "image/png": "[encoded data removed]",
      "text/plain": [
       "<matplotlib.figure.Figure at 0xc009550>"
      ]
     },
     "metadata": {},
     "output_type": "display_data"
    }
   ],
   "source": [
    "poll_df.plot(x='End Date',y = ['Clinton','Trump','Undecided'],\n",
    "             linestyle='',marker='o')"
   ]
  },
  {
   "cell_type": "markdown",
   "metadata": {},
   "source": [
    "Doesn't look like the number of undecided voters has decreased much in the past year."
   ]
  },
  {
   "cell_type": "code",
   "execution_count": 33,
   "metadata": {
    "collapsed": false
   },
   "outputs": [
    {
     "data": {
      "text/html": [
       "<div>\n",
       "<table border=\"1\" class=\"dataframe\">\n",
       "  <thead>\n",
       "    <tr style=\"text-align: right;\">\n",
       "      <th></th>\n",
       "      <th>Pollster</th>\n",
       "      <th>Start Date</th>\n",
       "      <th>End Date</th>\n",
       "      <th>Entry Date/Time (ET)</th>\n",
       "      <th>Number of Observations</th>\n",
       "      <th>Population</th>\n",
       "      <th>Mode</th>\n",
       "      <th>Clinton</th>\n",
       "      <th>Trump</th>\n",
       "      <th>Undecided</th>\n",
       "      <th>Other</th>\n",
       "      <th>Pollster URL</th>\n",
       "      <th>Source URL</th>\n",
       "      <th>Partisan</th>\n",
       "      <th>Affiliation</th>\n",
       "      <th>Difference</th>\n",
       "    </tr>\n",
       "  </thead>\n",
       "  <tbody>\n",
       "    <tr>\n",
       "      <th>0</th>\n",
       "      <td>Morning Consult</td>\n",
       "      <td>2016-06-15</td>\n",
       "      <td>2016-06-20</td>\n",
       "      <td>2016-06-20T20:29:18Z</td>\n",
       "      <td>3891.0</td>\n",
       "      <td>Registered Voters</td>\n",
       "      <td>Internet</td>\n",
       "      <td>42</td>\n",
       "      <td>40</td>\n",
       "      <td>17.0</td>\n",
       "      <td>NaN</td>\n",
       "      <td>http://elections.huffingtonpost.com/pollster/p...</td>\n",
       "      <td>https://morningconsult.com/2016/06/20/poll-orl...</td>\n",
       "      <td>Nonpartisan</td>\n",
       "      <td>None</td>\n",
       "      <td>0.02</td>\n",
       "    </tr>\n",
       "    <tr>\n",
       "      <th>1</th>\n",
       "      <td>ARG</td>\n",
       "      <td>2016-06-17</td>\n",
       "      <td>2016-06-20</td>\n",
       "      <td>2016-06-21T15:05:57Z</td>\n",
       "      <td>987.0</td>\n",
       "      <td>Registered Voters</td>\n",
       "      <td>Live Phone</td>\n",
       "      <td>50</td>\n",
       "      <td>41</td>\n",
       "      <td>6.0</td>\n",
       "      <td>3.0</td>\n",
       "      <td>http://elections.huffingtonpost.com/pollster/p...</td>\n",
       "      <td>http://americanresearchgroup.com/pres2016/na16...</td>\n",
       "      <td>Nonpartisan</td>\n",
       "      <td>None</td>\n",
       "      <td>0.09</td>\n",
       "    </tr>\n",
       "    <tr>\n",
       "      <th>2</th>\n",
       "      <td>YouGov/Economist</td>\n",
       "      <td>2016-06-18</td>\n",
       "      <td>2016-06-20</td>\n",
       "      <td>2016-06-22T15:37:22Z</td>\n",
       "      <td>911.0</td>\n",
       "      <td>Registered Voters</td>\n",
       "      <td>Internet</td>\n",
       "      <td>43</td>\n",
       "      <td>39</td>\n",
       "      <td>7.0</td>\n",
       "      <td>11.0</td>\n",
       "      <td>http://elections.huffingtonpost.com/pollster/p...</td>\n",
       "      <td>https://today.yougov.com/news/2016/06/21/natio...</td>\n",
       "      <td>Nonpartisan</td>\n",
       "      <td>None</td>\n",
       "      <td>0.04</td>\n",
       "    </tr>\n",
       "    <tr>\n",
       "      <th>3</th>\n",
       "      <td>Morning Consult</td>\n",
       "      <td>2016-06-15</td>\n",
       "      <td>2016-06-20</td>\n",
       "      <td>2016-06-20T20:29:18Z</td>\n",
       "      <td>1451.0</td>\n",
       "      <td>Registered Voters - Democrat</td>\n",
       "      <td>Internet</td>\n",
       "      <td>80</td>\n",
       "      <td>10</td>\n",
       "      <td>10.0</td>\n",
       "      <td>NaN</td>\n",
       "      <td>http://elections.huffingtonpost.com/pollster/p...</td>\n",
       "      <td>https://morningconsult.com/2016/06/20/poll-orl...</td>\n",
       "      <td>Nonpartisan</td>\n",
       "      <td>None</td>\n",
       "      <td>0.70</td>\n",
       "    </tr>\n",
       "    <tr>\n",
       "      <th>4</th>\n",
       "      <td>YouGov/Economist</td>\n",
       "      <td>2016-06-18</td>\n",
       "      <td>2016-06-20</td>\n",
       "      <td>2016-06-22T15:37:22Z</td>\n",
       "      <td>425.0</td>\n",
       "      <td>Registered Voters - Democrat</td>\n",
       "      <td>Internet</td>\n",
       "      <td>86</td>\n",
       "      <td>6</td>\n",
       "      <td>4.0</td>\n",
       "      <td>4.0</td>\n",
       "      <td>http://elections.huffingtonpost.com/pollster/p...</td>\n",
       "      <td>https://today.yougov.com/news/2016/06/21/natio...</td>\n",
       "      <td>Nonpartisan</td>\n",
       "      <td>None</td>\n",
       "      <td>0.80</td>\n",
       "    </tr>\n",
       "  </tbody>\n",
       "</table>\n",
       "</div>"
      ],
      "text/plain": [
       "           Pollster  Start Date    End Date  Entry Date/Time (ET)  \\\n",
       "0   Morning Consult  2016-06-15  2016-06-20  2016-06-20T20:29:18Z   \n",
       "1               ARG  2016-06-17  2016-06-20  2016-06-21T15:05:57Z   \n",
       "2  YouGov/Economist  2016-06-18  2016-06-20  2016-06-22T15:37:22Z   \n",
       "3   Morning Consult  2016-06-15  2016-06-20  2016-06-20T20:29:18Z   \n",
       "4  YouGov/Economist  2016-06-18  2016-06-20  2016-06-22T15:37:22Z   \n",
       "\n",
       "   Number of Observations                    Population        Mode  Clinton  \\\n",
       "0                  3891.0             Registered Voters    Internet       42   \n",
       "1                   987.0             Registered Voters  Live Phone       50   \n",
       "2                   911.0             Registered Voters    Internet       43   \n",
       "3                  1451.0  Registered Voters - Democrat    Internet       80   \n",
       "4                   425.0  Registered Voters - Democrat    Internet       86   \n",
       "\n",
       "   Trump  Undecided  Other                                       Pollster URL  \\\n",
       "0     40       17.0    NaN  http://elections.huffingtonpost.com/pollster/p...   \n",
       "1     41        6.0    3.0  http://elections.huffingtonpost.com/pollster/p...   \n",
       "2     39        7.0   11.0  http://elections.huffingtonpost.com/pollster/p...   \n",
       "3     10       10.0    NaN  http://elections.huffingtonpost.com/pollster/p...   \n",
       "4      6        4.0    4.0  http://elections.huffingtonpost.com/pollster/p...   \n",
       "\n",
       "                                          Source URL     Partisan Affiliation  \\\n",
       "0  https://morningconsult.com/2016/06/20/poll-orl...  Nonpartisan        None   \n",
       "1  http://americanresearchgroup.com/pres2016/na16...  Nonpartisan        None   \n",
       "2  https://today.yougov.com/news/2016/06/21/natio...  Nonpartisan        None   \n",
       "3  https://morningconsult.com/2016/06/20/poll-orl...  Nonpartisan        None   \n",
       "4  https://today.yougov.com/news/2016/06/21/natio...  Nonpartisan        None   \n",
       "\n",
       "   Difference  \n",
       "0        0.02  \n",
       "1        0.09  \n",
       "2        0.04  \n",
       "3        0.70  \n",
       "4        0.80  "
      ]
     },
     "execution_count": 33,
     "metadata": {},
     "output_type": "execute_result"
    }
   ],
   "source": [
    "from datetime import datetime\n",
    "poll_df['Difference']= (poll_df['Clinton'] - poll_df['Trump'])/100\n",
    "poll_df.head()"
   ]
  },
  {
   "cell_type": "code",
   "execution_count": 34,
   "metadata": {
    "collapsed": false
   },
   "outputs": [
    {
     "data": {
      "text/html": [
       "<div>\n",
       "<table border=\"1\" class=\"dataframe\">\n",
       "  <thead>\n",
       "    <tr style=\"text-align: right;\">\n",
       "      <th></th>\n",
       "      <th>Start Date</th>\n",
       "      <th>Number of Observations</th>\n",
       "      <th>Clinton</th>\n",
       "      <th>Trump</th>\n",
       "      <th>Undecided</th>\n",
       "      <th>Other</th>\n",
       "      <th>Difference</th>\n",
       "    </tr>\n",
       "  </thead>\n",
       "  <tbody>\n",
       "    <tr>\n",
       "      <th>0</th>\n",
       "      <td>2015-05-19</td>\n",
       "      <td>1046.00</td>\n",
       "      <td>48.75</td>\n",
       "      <td>34.25</td>\n",
       "      <td>14.00</td>\n",
       "      <td>2.5</td>\n",
       "      <td>0.1450</td>\n",
       "    </tr>\n",
       "    <tr>\n",
       "      <th>1</th>\n",
       "      <td>2015-06-20</td>\n",
       "      <td>420.75</td>\n",
       "      <td>47.25</td>\n",
       "      <td>35.00</td>\n",
       "      <td>17.75</td>\n",
       "      <td>NaN</td>\n",
       "      <td>0.1225</td>\n",
       "    </tr>\n",
       "    <tr>\n",
       "      <th>2</th>\n",
       "      <td>2015-06-21</td>\n",
       "      <td>1005.00</td>\n",
       "      <td>51.00</td>\n",
       "      <td>34.00</td>\n",
       "      <td>3.00</td>\n",
       "      <td>3.0</td>\n",
       "      <td>0.1700</td>\n",
       "    </tr>\n",
       "    <tr>\n",
       "      <th>3</th>\n",
       "      <td>2015-06-26</td>\n",
       "      <td>890.00</td>\n",
       "      <td>57.00</td>\n",
       "      <td>36.75</td>\n",
       "      <td>6.00</td>\n",
       "      <td>0.0</td>\n",
       "      <td>0.2025</td>\n",
       "    </tr>\n",
       "    <tr>\n",
       "      <th>4</th>\n",
       "      <td>2015-07-09</td>\n",
       "      <td>499.25</td>\n",
       "      <td>49.50</td>\n",
       "      <td>35.25</td>\n",
       "      <td>16.00</td>\n",
       "      <td>NaN</td>\n",
       "      <td>0.1425</td>\n",
       "    </tr>\n",
       "  </tbody>\n",
       "</table>\n",
       "</div>"
      ],
      "text/plain": [
       "   Start Date  Number of Observations  Clinton  Trump  Undecided  Other  \\\n",
       "0  2015-05-19                 1046.00    48.75  34.25      14.00    2.5   \n",
       "1  2015-06-20                  420.75    47.25  35.00      17.75    NaN   \n",
       "2  2015-06-21                 1005.00    51.00  34.00       3.00    3.0   \n",
       "3  2015-06-26                  890.00    57.00  36.75       6.00    0.0   \n",
       "4  2015-07-09                  499.25    49.50  35.25      16.00    NaN   \n",
       "\n",
       "   Difference  \n",
       "0      0.1450  \n",
       "1      0.1225  \n",
       "2      0.1700  \n",
       "3      0.2025  \n",
       "4      0.1425  "
      ]
     },
     "execution_count": 34,
     "metadata": {},
     "output_type": "execute_result"
    }
   ],
   "source": [
    "combo_dates_df = poll_df.groupby(['Start Date'],as_index=False).mean()\n",
    "combo_dates_df.head()"
   ]
  },
  {
   "cell_type": "code",
   "execution_count": 35,
   "metadata": {
    "collapsed": false
   },
   "outputs": [
    {
     "data": {
      "text/plain": [
       "<matplotlib.axes._subplots.AxesSubplot at 0xc9fff28>"
      ]
     },
     "execution_count": 35,
     "metadata": {},
     "output_type": "execute_result"
    },
    {
     "data": {
      "image/png": "[encoded data removed]",
      "text/plain": [
       "<matplotlib.figure.Figure at 0xc6940f0>"
      ]
     },
     "metadata": {},
     "output_type": "display_data"
    }
   ],
   "source": [
    "combo_dates_df.plot('Start Date','Difference',figsize=(12,4),marker='o',\n",
    "             linestyle='-',color='orange')"
   ]
  },
  {
   "cell_type": "markdown",
   "metadata": {},
   "source": [
    "Let's see which pollsters had Trump with the largest lead"
   ]
  },
  {
   "cell_type": "code",
   "execution_count": 36,
   "metadata": {
    "collapsed": false
   },
   "outputs": [
    {
     "data": {
      "text/html": [
       "<div>\n",
       "<table border=\"1\" class=\"dataframe\">\n",
       "  <thead>\n",
       "    <tr style=\"text-align: right;\">\n",
       "      <th></th>\n",
       "      <th>Start Date</th>\n",
       "      <th>Number of Observations</th>\n",
       "      <th>Clinton</th>\n",
       "      <th>Trump</th>\n",
       "      <th>Undecided</th>\n",
       "      <th>Other</th>\n",
       "      <th>Difference</th>\n",
       "    </tr>\n",
       "  </thead>\n",
       "  <tbody>\n",
       "    <tr>\n",
       "      <th>15</th>\n",
       "      <td>2015-08-21</td>\n",
       "      <td>3567.0</td>\n",
       "      <td>46.0</td>\n",
       "      <td>54.0</td>\n",
       "      <td>NaN</td>\n",
       "      <td>NaN</td>\n",
       "      <td>-0.08</td>\n",
       "    </tr>\n",
       "  </tbody>\n",
       "</table>\n",
       "</div>"
      ],
      "text/plain": [
       "    Start Date  Number of Observations  Clinton  Trump  Undecided  Other  \\\n",
       "15  2015-08-21                  3567.0     46.0   54.0        NaN    NaN   \n",
       "\n",
       "    Difference  \n",
       "15       -0.08  "
      ]
     },
     "execution_count": 36,
     "metadata": {},
     "output_type": "execute_result"
    }
   ],
   "source": [
    "combo_dates_df[combo_dates_df['Difference']==combo_dates_df['Difference'].min()]"
   ]
  },
  {
   "cell_type": "code",
   "execution_count": 67,
   "metadata": {
    "collapsed": false
   },
   "outputs": [
    {
     "data": {
      "text/html": [
       "<div>\n",
       "<table border=\"1\" class=\"dataframe\">\n",
       "  <thead>\n",
       "    <tr style=\"text-align: right;\">\n",
       "      <th></th>\n",
       "      <th>Pollster</th>\n",
       "      <th>Start Date</th>\n",
       "      <th>End Date</th>\n",
       "      <th>Entry Date/Time (ET)</th>\n",
       "      <th>Number of Observations</th>\n",
       "      <th>Population</th>\n",
       "      <th>Mode</th>\n",
       "      <th>Clinton</th>\n",
       "      <th>Trump</th>\n",
       "      <th>Undecided</th>\n",
       "      <th>Other</th>\n",
       "      <th>Pollster URL</th>\n",
       "      <th>Source URL</th>\n",
       "      <th>Partisan</th>\n",
       "      <th>Affiliation</th>\n",
       "      <th>Difference</th>\n",
       "    </tr>\n",
       "  </thead>\n",
       "  <tbody>\n",
       "    <tr>\n",
       "      <th>423</th>\n",
       "      <td>Gravis Marketing/OANN</td>\n",
       "      <td>2015-08-21</td>\n",
       "      <td>2015-08-22</td>\n",
       "      <td>2015-08-28T01:14:31Z</td>\n",
       "      <td>3567.0</td>\n",
       "      <td>Registered Voters</td>\n",
       "      <td>Automated Phone</td>\n",
       "      <td>46</td>\n",
       "      <td>54</td>\n",
       "      <td>NaN</td>\n",
       "      <td>NaN</td>\n",
       "      <td>http://elections.huffingtonpost.com/pollster/p...</td>\n",
       "      <td>http://www.oann.com/trump-breaks-new-ceiling-i...</td>\n",
       "      <td>Sponsor</td>\n",
       "      <td>Rep</td>\n",
       "      <td>-0.08</td>\n",
       "    </tr>\n",
       "  </tbody>\n",
       "</table>\n",
       "</div>"
      ],
      "text/plain": [
       "                  Pollster  Start Date    End Date  Entry Date/Time (ET)  \\\n",
       "423  Gravis Marketing/OANN  2015-08-21  2015-08-22  2015-08-28T01:14:31Z   \n",
       "\n",
       "     Number of Observations         Population             Mode  Clinton  \\\n",
       "423                  3567.0  Registered Voters  Automated Phone       46   \n",
       "\n",
       "     Trump  Undecided  Other  \\\n",
       "423     54        NaN    NaN   \n",
       "\n",
       "                                          Pollster URL  \\\n",
       "423  http://elections.huffingtonpost.com/pollster/p...   \n",
       "\n",
       "                                            Source URL Partisan Affiliation  \\\n",
       "423  http://www.oann.com/trump-breaks-new-ceiling-i...  Sponsor         Rep   \n",
       "\n",
       "     Difference  \n",
       "423       -0.08  "
      ]
     },
     "execution_count": 67,
     "metadata": {},
     "output_type": "execute_result"
    }
   ],
   "source": [
    "poll_df[poll_df['Start Date']=='2015-08-21']"
   ]
  },
  {
   "cell_type": "markdown",
   "metadata": {},
   "source": [
    "Looks like this was a republican  affiliated poll."
   ]
  },
  {
   "cell_type": "markdown",
   "metadata": {},
   "source": [
    "More investigation to be done closer to November after some debates so we can see how they swing the polls pre-election."
   ]
  },
  {
   "cell_type": "code",
   "execution_count": 82,
   "metadata": {
    "collapsed": true
   },
   "outputs": [],
   "source": [
    "pollster_df = poll_df.groupby(['Pollster'],as_index=False).mean()"
   ]
  },
  {
   "cell_type": "code",
   "execution_count": 83,
   "metadata": {
    "collapsed": false
   },
   "outputs": [
    {
     "data": {
      "text/html": [
       "<div>\n",
       "<table border=\"1\" class=\"dataframe\">\n",
       "  <thead>\n",
       "    <tr style=\"text-align: right;\">\n",
       "      <th></th>\n",
       "      <th>Pollster</th>\n",
       "      <th>Number of Observations</th>\n",
       "      <th>Clinton</th>\n",
       "      <th>Trump</th>\n",
       "      <th>Undecided</th>\n",
       "      <th>Other</th>\n",
       "      <th>Difference</th>\n",
       "    </tr>\n",
       "  </thead>\n",
       "  <tbody>\n",
       "    <tr>\n",
       "      <th>0</th>\n",
       "      <td>ABC/Post</td>\n",
       "      <td>875.250</td>\n",
       "      <td>47.500</td>\n",
       "      <td>43.5</td>\n",
       "      <td>1.0</td>\n",
       "      <td>1.250000</td>\n",
       "      <td>0.04000</td>\n",
       "    </tr>\n",
       "    <tr>\n",
       "      <th>1</th>\n",
       "      <td>ARG</td>\n",
       "      <td>983.500</td>\n",
       "      <td>47.800</td>\n",
       "      <td>43.2</td>\n",
       "      <td>6.4</td>\n",
       "      <td>2.600000</td>\n",
       "      <td>0.04600</td>\n",
       "    </tr>\n",
       "    <tr>\n",
       "      <th>2</th>\n",
       "      <td>Bloomberg/Selzer</td>\n",
       "      <td>782.500</td>\n",
       "      <td>51.500</td>\n",
       "      <td>36.5</td>\n",
       "      <td>6.5</td>\n",
       "      <td>9.000000</td>\n",
       "      <td>0.15000</td>\n",
       "    </tr>\n",
       "    <tr>\n",
       "      <th>3</th>\n",
       "      <td>CBS</td>\n",
       "      <td>528.375</td>\n",
       "      <td>45.625</td>\n",
       "      <td>39.5</td>\n",
       "      <td>12.0</td>\n",
       "      <td>3.428571</td>\n",
       "      <td>0.06125</td>\n",
       "    </tr>\n",
       "    <tr>\n",
       "      <th>4</th>\n",
       "      <td>CBS/Times</td>\n",
       "      <td>1083.500</td>\n",
       "      <td>47.600</td>\n",
       "      <td>41.6</td>\n",
       "      <td>10.0</td>\n",
       "      <td>1.500000</td>\n",
       "      <td>0.06000</td>\n",
       "    </tr>\n",
       "  </tbody>\n",
       "</table>\n",
       "</div>"
      ],
      "text/plain": [
       "           Pollster  Number of Observations  Clinton  Trump  Undecided  \\\n",
       "0          ABC/Post                 875.250   47.500   43.5        1.0   \n",
       "1               ARG                 983.500   47.800   43.2        6.4   \n",
       "2  Bloomberg/Selzer                 782.500   51.500   36.5        6.5   \n",
       "3               CBS                 528.375   45.625   39.5       12.0   \n",
       "4         CBS/Times                1083.500   47.600   41.6       10.0   \n",
       "\n",
       "      Other  Difference  \n",
       "0  1.250000     0.04000  \n",
       "1  2.600000     0.04600  \n",
       "2  9.000000     0.15000  \n",
       "3  3.428571     0.06125  \n",
       "4  1.500000     0.06000  "
      ]
     },
     "execution_count": 83,
     "metadata": {},
     "output_type": "execute_result"
    }
   ],
   "source": [
    "pollster_df.head()"
   ]
  },
  {
   "cell_type": "code",
   "execution_count": 84,
   "metadata": {
    "collapsed": false
   },
   "outputs": [
    {
     "data": {
      "text/plain": [
       "31"
      ]
     },
     "execution_count": 84,
     "metadata": {},
     "output_type": "execute_result"
    }
   ],
   "source": [
    "pollster_df['Pollster'].count()"
   ]
  },
  {
   "cell_type": "code",
   "execution_count": 85,
   "metadata": {
    "collapsed": false
   },
   "outputs": [],
   "source": [
    "pollster_df=pollster_df.drop(pollster_df.columns[[1,4,5,6]], axis=1)"
   ]
  },
  {
   "cell_type": "code",
   "execution_count": 86,
   "metadata": {
    "collapsed": false
   },
   "outputs": [],
   "source": [
    "pollster_df=pollster_df.set_index('Pollster')"
   ]
  },
  {
   "cell_type": "code",
   "execution_count": 87,
   "metadata": {
    "collapsed": false
   },
   "outputs": [
    {
     "data": {
      "text/html": [
       "<div>\n",
       "<table border=\"1\" class=\"dataframe\">\n",
       "  <thead>\n",
       "    <tr style=\"text-align: right;\">\n",
       "      <th></th>\n",
       "      <th>Clinton</th>\n",
       "      <th>Trump</th>\n",
       "    </tr>\n",
       "    <tr>\n",
       "      <th>Pollster</th>\n",
       "      <th></th>\n",
       "      <th></th>\n",
       "    </tr>\n",
       "  </thead>\n",
       "  <tbody>\n",
       "    <tr>\n",
       "      <th>ABC/Post</th>\n",
       "      <td>47.500</td>\n",
       "      <td>43.5</td>\n",
       "    </tr>\n",
       "    <tr>\n",
       "      <th>ARG</th>\n",
       "      <td>47.800</td>\n",
       "      <td>43.2</td>\n",
       "    </tr>\n",
       "    <tr>\n",
       "      <th>Bloomberg/Selzer</th>\n",
       "      <td>51.500</td>\n",
       "      <td>36.5</td>\n",
       "    </tr>\n",
       "    <tr>\n",
       "      <th>CBS</th>\n",
       "      <td>45.625</td>\n",
       "      <td>39.5</td>\n",
       "    </tr>\n",
       "    <tr>\n",
       "      <th>CBS/Times</th>\n",
       "      <td>47.600</td>\n",
       "      <td>41.6</td>\n",
       "    </tr>\n",
       "  </tbody>\n",
       "</table>\n",
       "</div>"
      ],
      "text/plain": [
       "                  Clinton  Trump\n",
       "Pollster                        \n",
       "ABC/Post           47.500   43.5\n",
       "ARG                47.800   43.2\n",
       "Bloomberg/Selzer   51.500   36.5\n",
       "CBS                45.625   39.5\n",
       "CBS/Times          47.600   41.6"
      ]
     },
     "execution_count": 87,
     "metadata": {},
     "output_type": "execute_result"
    }
   ],
   "source": [
    "pollster_df.head()"
   ]
  },
  {
   "cell_type": "code",
   "execution_count": 88,
   "metadata": {
    "collapsed": false
   },
   "outputs": [
    {
     "data": {
      "text/plain": [
       "<matplotlib.axes._subplots.AxesSubplot at 0x1304b9e8>"
      ]
     },
     "execution_count": 88,
     "metadata": {},
     "output_type": "execute_result"
    },
    {
     "data": {
      "image/png": "[encoded data removed]",
      "text/plain": [
       "<matplotlib.figure.Figure at 0x13396c88>"
      ]
     },
     "metadata": {},
     "output_type": "display_data"
    }
   ],
   "source": [
    "pollster_df.plot(kind='barh',figsize=(20,24),cmap='seismic')"
   ]
  },
  {
   "cell_type": "code",
   "execution_count": 89,
   "metadata": {
    "collapsed": false
   },
   "outputs": [
    {
     "data": {
      "text/plain": [
       "<matplotlib.axes._subplots.AxesSubplot at 0x13a88c88>"
      ]
     },
     "execution_count": 89,
     "metadata": {},
     "output_type": "execute_result"
    },
    {
     "data": {
      "image/png": "[encoded data removed]",
      "text/plain": [
       "<matplotlib.figure.Figure at 0x13a9e6a0>"
      ]
     },
     "metadata": {},
     "output_type": "display_data"
    }
   ],
   "source": [
    "poll_df.plot(x='End Date',y = ['Clinton','Trump'],\n",
    "             linestyle='',marker='o')"
   ]
  },
  {
   "cell_type": "code",
   "execution_count": 91,
   "metadata": {
    "collapsed": false
   },
   "outputs": [
    {
     "name": "stderr",
     "output_type": "stream",
     "text": [
      "C:\\Users\\yanke_000\\Anaconda2\\lib\\site-packages\\ipykernel\\__main__.py:1: FutureWarning: sort(columns=....) is deprecated, use sort_values(by=.....)\n",
      "  if __name__ == '__main__':\n"
     ]
    }
   ],
   "source": [
    "poll_df=poll_df.sort('End Date')"
   ]
  },
  {
   "cell_type": "code",
   "execution_count": 95,
   "metadata": {
    "collapsed": false
   },
   "outputs": [
    {
     "data": {
      "text/html": [
       "<div>\n",
       "<table border=\"1\" class=\"dataframe\">\n",
       "  <thead>\n",
       "    <tr style=\"text-align: right;\">\n",
       "      <th></th>\n",
       "      <th>Pollster</th>\n",
       "      <th>Start Date</th>\n",
       "      <th>End Date</th>\n",
       "      <th>Entry Date/Time (ET)</th>\n",
       "      <th>Number of Observations</th>\n",
       "      <th>Population</th>\n",
       "      <th>Mode</th>\n",
       "      <th>Clinton</th>\n",
       "      <th>Trump</th>\n",
       "      <th>Undecided</th>\n",
       "      <th>Other</th>\n",
       "      <th>Pollster URL</th>\n",
       "      <th>Source URL</th>\n",
       "      <th>Partisan</th>\n",
       "      <th>Affiliation</th>\n",
       "      <th>Difference</th>\n",
       "    </tr>\n",
       "  </thead>\n",
       "  <tbody>\n",
       "    <tr>\n",
       "      <th>462</th>\n",
       "      <td>Quinnipiac</td>\n",
       "      <td>2015-05-19</td>\n",
       "      <td>2015-05-26</td>\n",
       "      <td>2015-05-28T21:52:59Z</td>\n",
       "      <td>1711.0</td>\n",
       "      <td>Registered Voters</td>\n",
       "      <td>Live Phone</td>\n",
       "      <td>50</td>\n",
       "      <td>32</td>\n",
       "      <td>14.0</td>\n",
       "      <td>3.0</td>\n",
       "      <td>http://elections.huffingtonpost.com/pollster/p...</td>\n",
       "      <td>http://www.quinnipiac.edu/images/polling/us/us...</td>\n",
       "      <td>Nonpartisan</td>\n",
       "      <td>None</td>\n",
       "      <td>0.18</td>\n",
       "    </tr>\n",
       "    <tr>\n",
       "      <th>464</th>\n",
       "      <td>Quinnipiac</td>\n",
       "      <td>2015-05-19</td>\n",
       "      <td>2015-05-26</td>\n",
       "      <td>2015-05-28T21:52:59Z</td>\n",
       "      <td>679.0</td>\n",
       "      <td>Registered Voters - Republican</td>\n",
       "      <td>Live Phone</td>\n",
       "      <td>9</td>\n",
       "      <td>68</td>\n",
       "      <td>19.0</td>\n",
       "      <td>4.0</td>\n",
       "      <td>http://elections.huffingtonpost.com/pollster/p...</td>\n",
       "      <td>http://www.quinnipiac.edu/images/polling/us/us...</td>\n",
       "      <td>Nonpartisan</td>\n",
       "      <td>None</td>\n",
       "      <td>-0.59</td>\n",
       "    </tr>\n",
       "    <tr>\n",
       "      <th>463</th>\n",
       "      <td>Quinnipiac</td>\n",
       "      <td>2015-05-19</td>\n",
       "      <td>2015-05-26</td>\n",
       "      <td>2015-05-28T21:52:59Z</td>\n",
       "      <td>748.0</td>\n",
       "      <td>Registered Voters - Democrat</td>\n",
       "      <td>Live Phone</td>\n",
       "      <td>89</td>\n",
       "      <td>5</td>\n",
       "      <td>5.0</td>\n",
       "      <td>0.0</td>\n",
       "      <td>http://elections.huffingtonpost.com/pollster/p...</td>\n",
       "      <td>http://www.quinnipiac.edu/images/polling/us/us...</td>\n",
       "      <td>Nonpartisan</td>\n",
       "      <td>None</td>\n",
       "      <td>0.84</td>\n",
       "    </tr>\n",
       "    <tr>\n",
       "      <th>457</th>\n",
       "      <td>FOX</td>\n",
       "      <td>2015-06-21</td>\n",
       "      <td>2015-06-23</td>\n",
       "      <td>2015-06-25T19:39:57Z</td>\n",
       "      <td>1005.0</td>\n",
       "      <td>Registered Voters</td>\n",
       "      <td>Live Phone</td>\n",
       "      <td>51</td>\n",
       "      <td>34</td>\n",
       "      <td>3.0</td>\n",
       "      <td>3.0</td>\n",
       "      <td>http://elections.huffingtonpost.com/pollster/p...</td>\n",
       "      <td>http://www.foxnews.com/politics/interactive/20...</td>\n",
       "      <td>Nonpartisan</td>\n",
       "      <td>None</td>\n",
       "      <td>0.17</td>\n",
       "    </tr>\n",
       "    <tr>\n",
       "      <th>453</th>\n",
       "      <td>CNN</td>\n",
       "      <td>2015-06-26</td>\n",
       "      <td>2015-06-28</td>\n",
       "      <td>2015-07-01T18:33:34Z</td>\n",
       "      <td>890.0</td>\n",
       "      <td>Registered Voters</td>\n",
       "      <td>Live Phone</td>\n",
       "      <td>59</td>\n",
       "      <td>35</td>\n",
       "      <td>6.0</td>\n",
       "      <td>0.0</td>\n",
       "      <td>http://elections.huffingtonpost.com/pollster/p...</td>\n",
       "      <td>http://i2.cdn.turner.com/cnn/2015/images/06/30...</td>\n",
       "      <td>Nonpartisan</td>\n",
       "      <td>None</td>\n",
       "      <td>0.24</td>\n",
       "    </tr>\n",
       "  </tbody>\n",
       "</table>\n",
       "</div>"
      ],
      "text/plain": [
       "       Pollster  Start Date    End Date  Entry Date/Time (ET)  \\\n",
       "462  Quinnipiac  2015-05-19  2015-05-26  2015-05-28T21:52:59Z   \n",
       "464  Quinnipiac  2015-05-19  2015-05-26  2015-05-28T21:52:59Z   \n",
       "463  Quinnipiac  2015-05-19  2015-05-26  2015-05-28T21:52:59Z   \n",
       "457         FOX  2015-06-21  2015-06-23  2015-06-25T19:39:57Z   \n",
       "453         CNN  2015-06-26  2015-06-28  2015-07-01T18:33:34Z   \n",
       "\n",
       "     Number of Observations                      Population        Mode  \\\n",
       "462                  1711.0               Registered Voters  Live Phone   \n",
       "464                   679.0  Registered Voters - Republican  Live Phone   \n",
       "463                   748.0    Registered Voters - Democrat  Live Phone   \n",
       "457                  1005.0               Registered Voters  Live Phone   \n",
       "453                   890.0               Registered Voters  Live Phone   \n",
       "\n",
       "     Clinton  Trump  Undecided  Other  \\\n",
       "462       50     32       14.0    3.0   \n",
       "464        9     68       19.0    4.0   \n",
       "463       89      5        5.0    0.0   \n",
       "457       51     34        3.0    3.0   \n",
       "453       59     35        6.0    0.0   \n",
       "\n",
       "                                          Pollster URL  \\\n",
       "462  http://elections.huffingtonpost.com/pollster/p...   \n",
       "464  http://elections.huffingtonpost.com/pollster/p...   \n",
       "463  http://elections.huffingtonpost.com/pollster/p...   \n",
       "457  http://elections.huffingtonpost.com/pollster/p...   \n",
       "453  http://elections.huffingtonpost.com/pollster/p...   \n",
       "\n",
       "                                            Source URL     Partisan  \\\n",
       "462  http://www.quinnipiac.edu/images/polling/us/us...  Nonpartisan   \n",
       "464  http://www.quinnipiac.edu/images/polling/us/us...  Nonpartisan   \n",
       "463  http://www.quinnipiac.edu/images/polling/us/us...  Nonpartisan   \n",
       "457  http://www.foxnews.com/politics/interactive/20...  Nonpartisan   \n",
       "453  http://i2.cdn.turner.com/cnn/2015/images/06/30...  Nonpartisan   \n",
       "\n",
       "    Affiliation  Difference  \n",
       "462        None        0.18  \n",
       "464        None       -0.59  \n",
       "463        None        0.84  \n",
       "457        None        0.17  \n",
       "453        None        0.24  "
      ]
     },
     "execution_count": 95,
     "metadata": {},
     "output_type": "execute_result"
    }
   ],
   "source": [
    "#remove polls where number of observations is not available\n",
    "poll_df=poll_df.dropna()\n",
    "poll_df.head()"
   ]
  },
  {
   "cell_type": "code",
   "execution_count": 96,
   "metadata": {
    "collapsed": false
   },
   "outputs": [
    {
     "data": {
      "text/plain": [
       "<matplotlib.axes._subplots.AxesSubplot at 0x14fb0f98>"
      ]
     },
     "execution_count": 96,
     "metadata": {},
     "output_type": "execute_result"
    },
    {
     "data": {
      "image/png": "[encoded data removed]",
      "text/plain": [
       "<matplotlib.figure.Figure at 0x13dca320>"
      ]
     },
     "metadata": {},
     "output_type": "display_data"
    }
   ],
   "source": [
    "poll_df.plot(x='End Date',y = ['Clinton','Trump'],\n",
    "             linestyle='',marker='o')"
   ]
  },
  {
   "cell_type": "code",
   "execution_count": null,
   "metadata": {
    "collapsed": true
   },
   "outputs": [],
   "source": []
  }
 ],
 "metadata": {
  "kernelspec": {
   "display_name": "Python 2",
   "language": "python",
   "name": "python2"
  },
  "language_info": {
   "codemirror_mode": {
    "name": "ipython",
    "version": 2
   },
   "file_extension": ".py",
   "mimetype": "text/x-python",
   "name": "python",
   "nbconvert_exporter": "python",
   "pygments_lexer": "ipython2",
   "version": "2.7.11"
  }
 },
 "nbformat": 4,
 "nbformat_minor": 0
}
